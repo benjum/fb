{
 "cells": [
  {
   "cell_type": "markdown",
   "id": "7dfcd926",
   "metadata": {},
   "source": [
    "---\n",
    "title: \"My Post\"\n",
    "description: \"Post description\"\n",
    "author: \"Fizz McPhee\"\n",
    "date: \"5/22/2021\"\n",
    "date-modified: \"5/23/2021\"\n",
    "---"
   ]
  },
  {
   "cell_type": "code",
   "execution_count": 1,
   "id": "913bd1a7",
   "metadata": {},
   "outputs": [
    {
     "data": {
      "text/plain": [
       "4"
      ]
     },
     "execution_count": 1,
     "metadata": {},
     "output_type": "execute_result"
    }
   ],
   "source": [
    "2+2"
   ]
  },
  {
   "cell_type": "code",
   "execution_count": 2,
   "id": "73287d7e",
   "metadata": {},
   "outputs": [
    {
     "data": {
      "text/plain": [
       "7"
      ]
     },
     "execution_count": 2,
     "metadata": {},
     "output_type": "execute_result"
    }
   ],
   "source": [
    "3+4"
   ]
  },
  {
   "cell_type": "code",
   "execution_count": null,
   "id": "823f0ff2",
   "metadata": {},
   "outputs": [],
   "source": []
  }
 ],
 "metadata": {
  "kernelspec": {
   "display_name": "Python 3 (ipykernel)",
   "language": "python",
   "name": "python3"
  },
  "language_info": {
   "codemirror_mode": {
    "name": "ipython",
    "version": 3
   },
   "file_extension": ".py",
   "mimetype": "text/x-python",
   "name": "python",
   "nbconvert_exporter": "python",
   "pygments_lexer": "ipython3",
   "version": "3.10.8"
  },
  "nbsimplegrader": {
   "publish_config": {
    "classes": [],
    "options": {},
    "tools": []
   }
  }
 },
 "nbformat": 4,
 "nbformat_minor": 5
}
